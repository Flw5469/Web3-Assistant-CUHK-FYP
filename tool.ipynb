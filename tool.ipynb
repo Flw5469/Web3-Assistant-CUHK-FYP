{
 "cells": [
  {
   "cell_type": "code",
   "execution_count": 10,
   "metadata": {},
   "outputs": [],
   "source": [
    "import requests\n",
    "def get_current_price(symbol):\n",
    "    url = f'https://api.binance.com/api/v3/ticker/price'\n",
    "    params = {'symbol': symbol+\"USDT\"}\n",
    "    response = requests.get(url, params=params)\n",
    "    data = response.json()\n",
    "    usdt_price = float(data['price'])\n",
    "    return usdt_price\n",
    "coin_names = {\n",
    "  'bitcoin': 'BTC',\n",
    "  'ethereum': 'ETH',\n",
    "  'binance coin': 'BNB',\n",
    "  'ripple': 'XRP',\n",
    "  'solana': 'SOL',\n",
    "  'cardano': 'ADA',\n",
    "  'dogecoin': 'DOGE',\n",
    "  'polygon': 'MATIC',\n",
    "  'polkadot':\"DOT\",\n",
    "  'avalanche': 'AVAX'\n",
    "}\n",
    "def get_current_price_wrapper(input):\n",
    "  if input['coin_name'].lower() in coin_names:\n",
    "    return f\"\"\"\\n ######### Context ############\n",
    "The price of {input} now is : {str(get_current_price(coin_names[input['coin_name'].lower()]))}\n",
    "###########################\"\"\"\n",
    "  else:\n",
    "     return f\" The price of {input} now is UNKNOWN. \""
   ]
  },
  {
   "cell_type": "code",
   "execution_count": null,
   "metadata": {},
   "outputs": [
    {
     "name": "stdout",
     "output_type": "stream",
     "text": [
      "QUERY:  What is the price of PiggyCoin 2 years ago? Do not give me the price now.\n",
      "Completion:  ChatCompletion(id='chatcmpl-AQnwjDH2D9wiqCSP6Sx7RCiArYgTH', choices=[Choice(finish_reason='tool_calls', index=0, logprobs=None, message=ChatCompletionMessage(content='', refusal=None, role='assistant', function_call=None, tool_calls=[ChatCompletionMessageToolCall(id='call_icEiCta4EeufiDPWAt4W0GCP', function=Function(arguments='{\"coin_name\":\"PiggyCoin\"}', name='coin'), type='function')]))], created=1730951885, model='gpt-3.5-turbo-0125', object='chat.completion', service_tier=None, system_fingerprint='fp_d54531d9eb', usage=CompletionUsage(completion_tokens=16, prompt_tokens=115, total_tokens=131, completion_tokens_details=CompletionTokensDetails(audio_tokens=0, reasoning_tokens=0), prompt_tokens_details=PromptTokensDetails(audio_tokens=0, cached_tokens=0)))\n",
      "ChatCompletion(id='chatcmpl-AQnwjDH2D9wiqCSP6Sx7RCiArYgTH', choices=[Choice(finish_reason='tool_calls', index=0, logprobs=None, message=ChatCompletionMessage(content='', refusal=None, role='assistant', function_call=None, tool_calls=[ChatCompletionMessageToolCall(id='call_icEiCta4EeufiDPWAt4W0GCP', function=Function(arguments='{\"coin_name\":\"PiggyCoin\"}', name='coin'), type='function')]))], created=1730951885, model='gpt-3.5-turbo-0125', object='chat.completion', service_tier=None, system_fingerprint='fp_d54531d9eb', usage=CompletionUsage(completion_tokens=16, prompt_tokens=115, total_tokens=131, completion_tokens_details=CompletionTokensDetails(audio_tokens=0, reasoning_tokens=0), prompt_tokens_details=PromptTokensDetails(audio_tokens=0, cached_tokens=0)))\n",
      "The argument: \n",
      "{\"coin_name\":\"PiggyCoin\"}\n",
      "QUERY:  What is the price of bitcoin now?\n",
      " The price of {'coin_name': 'PiggyCoin'} now is UNKNOWN. \n",
      "Completion:  ChatCompletion(id='chatcmpl-AQnwlnOwndYFkoQlfcSbIsmcE62xT', choices=[Choice(finish_reason='tool_calls', index=0, logprobs=None, message=ChatCompletionMessage(content='', refusal=None, role='assistant', function_call=None, tool_calls=[ChatCompletionMessageToolCall(id='call_Xh9egJXo1V87DXAra3Uw9bfR', function=Function(arguments='{\"coin_name\":\"Bitcoin\"}', name='coin'), type='function')]))], created=1730951887, model='gpt-3.5-turbo-0125', object='chat.completion', service_tier=None, system_fingerprint='fp_d54531d9eb', usage=CompletionUsage(completion_tokens=14, prompt_tokens=119, total_tokens=133, completion_tokens_details=CompletionTokensDetails(audio_tokens=0, reasoning_tokens=0), prompt_tokens_details=PromptTokensDetails(audio_tokens=0, cached_tokens=0)))\n",
      "Question:  What is the price of PiggyCoin 2 years ago? Do not give me the price now.\n",
      "Answer: :  \n"
     ]
    }
   ],
   "source": [
    "from openai import OpenAI\n",
    "import openai\n",
    "from pydantic import BaseModel\n",
    "import json\n",
    "\n",
    "client = OpenAI(api_key = \"sk-sJAILfYY4hF8aVTM73A26fB09c834c7b8c41D4CeB652Fe95\",base_url=\"https://openai.ss-gpt.com/v1\")\n",
    "\n",
    "class coin(BaseModel):\n",
    "  coin_name:str\n",
    "\n",
    "q1 = \"What is the price of bitcoin now?\"\n",
    "q2 = \"What is bitcoin?\"\n",
    "question = \"What is the price of PiggyCoin 2 years ago? Do not give me the price now.\"\n",
    "\n",
    "def query_with_tools(input):\n",
    "  tools = [openai.pydantic_function_tool(coin)]\n",
    "  print(\"query_with_tools: \", input)\n",
    "  completion = client.chat.completions.create(\n",
    "    model=\"gpt-3.5-turbo\",\n",
    "    messages=[\n",
    "      {\"role\": \"assistant\", \"content\": \"\"\"You are an Web3 assistant who can answer according to context and call tools to get context. Please call tools only if the context is missing and you need to retrieve the required information to answer questions. Otherwise output the answer directly.\"\"\"},\n",
    "      {\"role\": \"user\", \"content\": input}\n",
    "    ],\n",
    "    tools=tools\n",
    "    #response_format={ \"type\": \"json_object\" },\n",
    "  )\n",
    "  print(\"Completion: \",completion)\n",
    "  return completion\n",
    "completion = query_with_tools(question)\n",
    "print(completion)\n",
    "answer = completion.choices[0].message.content\n",
    "if completion.choices[0].message.tool_calls!=None:\n",
    "  function_name = completion.choices[0].message.tool_calls[0].function.name\n",
    "  function_args = completion.choices[0].message.tool_calls[0].function.arguments\n",
    "\n",
    "  print(\"The argument: \")\n",
    "  print(completion.choices[0].message.tool_calls[0].function.arguments) \n",
    "  data = json.loads(function_args)\n",
    "  if data:\n",
    "    if (function_name==\"coin\"):\n",
    "      tool_output = get_current_price_wrapper(data)\n",
    "    try:\n",
    "      answer = query_with_tools(q1 +\"\\n\"+ tool_output).choices[0].message.content\n",
    "    except:\n",
    "      pass\n",
    "print(\"Question: \",question)\n",
    "print(\"Answer: : \",answer)\n",
    "     \n",
    "# completion\n"
   ]
  }
 ],
 "metadata": {
  "kernelspec": {
   "display_name": "Python 3",
   "language": "python",
   "name": "python3"
  },
  "language_info": {
   "codemirror_mode": {
    "name": "ipython",
    "version": 3
   },
   "file_extension": ".py",
   "mimetype": "text/x-python",
   "name": "python",
   "nbconvert_exporter": "python",
   "pygments_lexer": "ipython3",
   "version": "3.11.0"
  }
 },
 "nbformat": 4,
 "nbformat_minor": 2
}
